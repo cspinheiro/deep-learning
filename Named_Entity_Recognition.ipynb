{
  "nbformat": 4,
  "nbformat_minor": 0,
  "metadata": {
    "colab": {
      "name": "Named Entity Recognition",
      "provenance": [],
      "collapsed_sections": [],
      "include_colab_link": true
    },
    "kernelspec": {
      "name": "python3",
      "display_name": "Python 3"
    }
  },
  "cells": [
    {
      "cell_type": "markdown",
      "metadata": {
        "id": "view-in-github",
        "colab_type": "text"
      },
      "source": [
        "<a href=\"https://colab.research.google.com/github/cspinheiro/deep-learning/blob/main/Named_Entity_Recognition.ipynb\" target=\"_parent\"><img src=\"https://colab.research.google.com/assets/colab-badge.svg\" alt=\"Open In Colab\"/></a>"
      ]
    },
    {
      "cell_type": "markdown",
      "metadata": {
        "id": "RPuBqCCFCgvR"
      },
      "source": [
        "# Conhecimento Natural na GoBots: Extraindo Informações de Títulos de Anúncios\r\n"
      ]
    },
    {
      "cell_type": "code",
      "metadata": {
        "id": "bGBJTJK-L7uV"
      },
      "source": [
        "!pip install spacy --upgrade\n",
        "#!pip install spacy==2.2.3"
      ],
      "execution_count": null,
      "outputs": []
    },
    {
      "cell_type": "markdown",
      "metadata": {
        "id": "DMvt1D5QESDK"
      },
      "source": [
        "# Etapa 1: Instalação do spaCy"
      ]
    },
    {
      "cell_type": "code",
      "metadata": {
        "id": "PktHT0dXMNIS",
        "colab": {
          "base_uri": "https://localhost:8080/",
          "height": 35
        },
        "outputId": "b2fd8211-5adc-4345-ff48-8782916b74a8"
      },
      "source": [
        "import spacy\n",
        "spacy.__version__"
      ],
      "execution_count": 2,
      "outputs": [
        {
          "output_type": "execute_result",
          "data": {
            "application/vnd.google.colaboratory.intrinsic+json": {
              "type": "string"
            },
            "text/plain": [
              "'2.2.4'"
            ]
          },
          "metadata": {
            "tags": []
          },
          "execution_count": 2
        }
      ]
    },
    {
      "cell_type": "code",
      "metadata": {
        "id": "TXvCmKxLMdoF",
        "colab": {
          "base_uri": "https://localhost:8080/"
        },
        "outputId": "e2d5cc3e-2d33-48b9-81a3-3911cb6086d2"
      },
      "source": [
        "!python -m spacy download pt"
      ],
      "execution_count": 3,
      "outputs": [
        {
          "output_type": "stream",
          "text": [
            "Collecting pt_core_news_sm==2.2.5\n",
            "\u001b[?25l  Downloading https://github.com/explosion/spacy-models/releases/download/pt_core_news_sm-2.2.5/pt_core_news_sm-2.2.5.tar.gz (21.2MB)\n",
            "\u001b[K     |████████████████████████████████| 21.2MB 1.3MB/s \n",
            "\u001b[?25hRequirement already satisfied: spacy>=2.2.2 in /usr/local/lib/python3.6/dist-packages (from pt_core_news_sm==2.2.5) (2.2.4)\n",
            "Requirement already satisfied: wasabi<1.1.0,>=0.4.0 in /usr/local/lib/python3.6/dist-packages (from spacy>=2.2.2->pt_core_news_sm==2.2.5) (0.8.0)\n",
            "Requirement already satisfied: thinc==7.4.0 in /usr/local/lib/python3.6/dist-packages (from spacy>=2.2.2->pt_core_news_sm==2.2.5) (7.4.0)\n",
            "Requirement already satisfied: murmurhash<1.1.0,>=0.28.0 in /usr/local/lib/python3.6/dist-packages (from spacy>=2.2.2->pt_core_news_sm==2.2.5) (1.0.5)\n",
            "Requirement already satisfied: numpy>=1.15.0 in /usr/local/lib/python3.6/dist-packages (from spacy>=2.2.2->pt_core_news_sm==2.2.5) (1.19.5)\n",
            "Requirement already satisfied: plac<1.2.0,>=0.9.6 in /usr/local/lib/python3.6/dist-packages (from spacy>=2.2.2->pt_core_news_sm==2.2.5) (1.1.3)\n",
            "Requirement already satisfied: requests<3.0.0,>=2.13.0 in /usr/local/lib/python3.6/dist-packages (from spacy>=2.2.2->pt_core_news_sm==2.2.5) (2.23.0)\n",
            "Requirement already satisfied: blis<0.5.0,>=0.4.0 in /usr/local/lib/python3.6/dist-packages (from spacy>=2.2.2->pt_core_news_sm==2.2.5) (0.4.1)\n",
            "Requirement already satisfied: srsly<1.1.0,>=1.0.2 in /usr/local/lib/python3.6/dist-packages (from spacy>=2.2.2->pt_core_news_sm==2.2.5) (1.0.5)\n",
            "Requirement already satisfied: setuptools in /usr/local/lib/python3.6/dist-packages (from spacy>=2.2.2->pt_core_news_sm==2.2.5) (51.1.2)\n",
            "Requirement already satisfied: catalogue<1.1.0,>=0.0.7 in /usr/local/lib/python3.6/dist-packages (from spacy>=2.2.2->pt_core_news_sm==2.2.5) (1.0.0)\n",
            "Requirement already satisfied: cymem<2.1.0,>=2.0.2 in /usr/local/lib/python3.6/dist-packages (from spacy>=2.2.2->pt_core_news_sm==2.2.5) (2.0.5)\n",
            "Requirement already satisfied: preshed<3.1.0,>=3.0.2 in /usr/local/lib/python3.6/dist-packages (from spacy>=2.2.2->pt_core_news_sm==2.2.5) (3.0.5)\n",
            "Requirement already satisfied: tqdm<5.0.0,>=4.38.0 in /usr/local/lib/python3.6/dist-packages (from spacy>=2.2.2->pt_core_news_sm==2.2.5) (4.41.1)\n",
            "Requirement already satisfied: certifi>=2017.4.17 in /usr/local/lib/python3.6/dist-packages (from requests<3.0.0,>=2.13.0->spacy>=2.2.2->pt_core_news_sm==2.2.5) (2020.12.5)\n",
            "Requirement already satisfied: urllib3!=1.25.0,!=1.25.1,<1.26,>=1.21.1 in /usr/local/lib/python3.6/dist-packages (from requests<3.0.0,>=2.13.0->spacy>=2.2.2->pt_core_news_sm==2.2.5) (1.24.3)\n",
            "Requirement already satisfied: idna<3,>=2.5 in /usr/local/lib/python3.6/dist-packages (from requests<3.0.0,>=2.13.0->spacy>=2.2.2->pt_core_news_sm==2.2.5) (2.10)\n",
            "Requirement already satisfied: chardet<4,>=3.0.2 in /usr/local/lib/python3.6/dist-packages (from requests<3.0.0,>=2.13.0->spacy>=2.2.2->pt_core_news_sm==2.2.5) (3.0.4)\n",
            "Requirement already satisfied: importlib-metadata>=0.20; python_version < \"3.8\" in /usr/local/lib/python3.6/dist-packages (from catalogue<1.1.0,>=0.0.7->spacy>=2.2.2->pt_core_news_sm==2.2.5) (3.3.0)\n",
            "Requirement already satisfied: typing-extensions>=3.6.4; python_version < \"3.8\" in /usr/local/lib/python3.6/dist-packages (from importlib-metadata>=0.20; python_version < \"3.8\"->catalogue<1.1.0,>=0.0.7->spacy>=2.2.2->pt_core_news_sm==2.2.5) (3.7.4.3)\n",
            "Requirement already satisfied: zipp>=0.5 in /usr/local/lib/python3.6/dist-packages (from importlib-metadata>=0.20; python_version < \"3.8\"->catalogue<1.1.0,>=0.0.7->spacy>=2.2.2->pt_core_news_sm==2.2.5) (3.4.0)\n",
            "Building wheels for collected packages: pt-core-news-sm\n",
            "  Building wheel for pt-core-news-sm (setup.py) ... \u001b[?25l\u001b[?25hdone\n",
            "  Created wheel for pt-core-news-sm: filename=pt_core_news_sm-2.2.5-cp36-none-any.whl size=21186283 sha256=57834d45e08baa5e3af2d34195654f88ef4d4f373de5c007e713468fa88577bc\n",
            "  Stored in directory: /tmp/pip-ephem-wheel-cache-zcxkff5x/wheels/ea/94/74/ec9be8418e9231b471be5dc7e1b45dd670019a376a6b5bc1c0\n",
            "Successfully built pt-core-news-sm\n",
            "Installing collected packages: pt-core-news-sm\n",
            "Successfully installed pt-core-news-sm-2.2.5\n",
            "\u001b[38;5;2m✔ Download and installation successful\u001b[0m\n",
            "You can now load the model via spacy.load('pt_core_news_sm')\n",
            "\u001b[38;5;2m✔ Linking successful\u001b[0m\n",
            "/usr/local/lib/python3.6/dist-packages/pt_core_news_sm -->\n",
            "/usr/local/lib/python3.6/dist-packages/spacy/data/pt\n",
            "You can now load the model via spacy.load('pt')\n"
          ],
          "name": "stdout"
        }
      ]
    },
    {
      "cell_type": "code",
      "metadata": {
        "id": "t51j1nmZ4dDX"
      },
      "source": [
        "from google.colab import files \r\n",
        "uploaded = files.upload()"
      ],
      "execution_count": null,
      "outputs": []
    },
    {
      "cell_type": "markdown",
      "metadata": {
        "id": "bJ2s3MS6EXBe"
      },
      "source": [
        "# Etapa 2: Marcação POS\n",
        "\n",
        "- POS (part-of-speech) atribui para as palavras partes da fala, como substantivos, adjetivos, verbos\n",
        "- Importante para a detecção de entidades no texto, pois primeiro é necessário saber o que o texto contém\n",
        "- Lista de tokens: https://spacy.io/api/annotation#pos-tagging\n",
        "- Português: https://www.sketchengine.eu/portuguese-freeling-part-of-speech-tagset/"
      ]
    },
    {
      "cell_type": "code",
      "metadata": {
        "id": "0T8hIclJNV1b",
        "colab": {
          "base_uri": "https://localhost:8080/"
        },
        "outputId": "abee764b-d9a2-4ecb-bd61-0e08c500c914"
      },
      "source": [
        "pln = spacy.load('pt')\n",
        "pln"
      ],
      "execution_count": 5,
      "outputs": [
        {
          "output_type": "execute_result",
          "data": {
            "text/plain": [
              "<spacy.lang.pt.Portuguese at 0x7fca622944a8>"
            ]
          },
          "metadata": {
            "tags": []
          },
          "execution_count": 5
        }
      ]
    },
    {
      "cell_type": "code",
      "metadata": {
        "id": "4pZAEQVPNku8"
      },
      "source": [
        "documento = pln('Meu nome é Carolinne e falo em nome do Banco Santander')"
      ],
      "execution_count": 7,
      "outputs": []
    },
    {
      "cell_type": "code",
      "metadata": {
        "id": "Fg7TeXodNz4e",
        "colab": {
          "base_uri": "https://localhost:8080/"
        },
        "outputId": "e0291681-9fed-4d93-8852-f016be396ef9"
      },
      "source": [
        "for token in documento:\n",
        "  print(token.text, token.pos_)"
      ],
      "execution_count": 8,
      "outputs": [
        {
          "output_type": "stream",
          "text": [
            "Meu DET\n",
            "nome NOUN\n",
            "é VERB\n",
            "Carolinne PROPN\n",
            "e CCONJ\n",
            "falo ADV\n",
            "em ADP\n",
            "nome NOUN\n",
            "do PROPN\n",
            "Banco PROPN\n",
            "Santander PROPN\n"
          ],
          "name": "stdout"
        }
      ]
    },
    {
      "cell_type": "markdown",
      "metadata": {
        "id": "eGd1tq7mLv_M"
      },
      "source": [
        "## Legenda \n",
        "\n",
        "- lemma: raiz da palavra\n",
        "- pos: parte da fala\n",
        "- tag: informações morfológicas, como se o verbo está no passado\n",
        "- dep: dependência sintática\n",
        "- shape: formato (maiúsculo, minúsculo, dígitos)\n",
        "- alpha: se é alfabético\n",
        "- stop: se é stopword"
      ]
    },
    {
      "cell_type": "code",
      "metadata": {
        "id": "0sIR8by8Osd3"
      },
      "source": [
        "for token in documento:\n",
        "  print(token.text, token.lemma_, token.pos_, token.tag_, token.dep_, \n",
        "        token.shape_, token.is_alpha, token.is_stop)"
      ],
      "execution_count": null,
      "outputs": []
    },
    {
      "cell_type": "code",
      "metadata": {
        "id": "vHNRWL_KPabJ"
      },
      "source": [
        "for token in documento:\n",
        "  if token.pos_ == 'PROPN':\n",
        "    print(token.text)"
      ],
      "execution_count": null,
      "outputs": []
    },
    {
      "cell_type": "markdown",
      "metadata": {
        "id": "DctwAtI_NLym"
      },
      "source": [
        "# Etapa 3: Lematização e stemização\n",
        "\n",
        "- Lematização: \"Lema\" de uma palavra de acordo com seu significado no dicionário - palavra base (análise vocabular e morfológica)\n",
        "- Stemização: Extrair o radical das palavras"
      ]
    },
    {
      "cell_type": "code",
      "metadata": {
        "id": "NVZ0_xLUQGjb",
        "colab": {
          "base_uri": "https://localhost:8080/"
        },
        "outputId": "c238ef2b-4603-4fda-a686-274b31c55e30"
      },
      "source": [
        "for token in documento:\n",
        "  print(token.text, token.lemma_)"
      ],
      "execution_count": 9,
      "outputs": [
        {
          "output_type": "stream",
          "text": [
            "Meu Meu\n",
            "nome nome\n",
            "é ser\n",
            "Carolinne Carolinne\n",
            "e e\n",
            "falo falir\n",
            "em em\n",
            "nome nome\n",
            "do do\n",
            "Banco Banco\n",
            "Santander Santander\n"
          ],
          "name": "stdout"
        }
      ]
    },
    {
      "cell_type": "code",
      "metadata": {
        "id": "16bshyFfQSF2",
        "colab": {
          "base_uri": "https://localhost:8080/"
        },
        "outputId": "be2beed1-8bb1-4591-e767-321c110753eb"
      },
      "source": [
        "doc = pln('encontrei encontraram encontrarão encontrariam cursando curso cursei')\n",
        "[token.lemma_ for token in doc]"
      ],
      "execution_count": 10,
      "outputs": [
        {
          "output_type": "execute_result",
          "data": {
            "text/plain": [
              "['encontrar',\n",
              " 'encontrar',\n",
              " 'encontrar',\n",
              " 'encontrar',\n",
              " 'cursar',\n",
              " 'cursar',\n",
              " 'cursar']"
            ]
          },
          "metadata": {
            "tags": []
          },
          "execution_count": 10
        }
      ]
    },
    {
      "cell_type": "markdown",
      "metadata": {
        "id": "zVz8tGTiZN6C"
      },
      "source": [
        "## Comparação stemização (NLTK) x lematização (spaCy)"
      ]
    },
    {
      "cell_type": "code",
      "metadata": {
        "id": "Ww8qgIxXQt7c"
      },
      "source": [
        "#!pip install nltk --upgrade"
      ],
      "execution_count": null,
      "outputs": []
    },
    {
      "cell_type": "code",
      "metadata": {
        "id": "A8G04U93QpbA"
      },
      "source": [
        "import nltk\n",
        "nltk.download('rslp')"
      ],
      "execution_count": null,
      "outputs": []
    },
    {
      "cell_type": "code",
      "metadata": {
        "id": "Levz2Ci8Q5hm",
        "colab": {
          "base_uri": "https://localhost:8080/",
          "height": 35
        },
        "outputId": "79192a6c-b7cb-4475-b994-5ed1757547cb"
      },
      "source": [
        "stemmer = nltk.stem.RSLPStemmer()\n",
        "stemmer.stem('aprender')"
      ],
      "execution_count": null,
      "outputs": [
        {
          "output_type": "execute_result",
          "data": {
            "application/vnd.google.colaboratory.intrinsic+json": {
              "type": "string"
            },
            "text/plain": [
              "'aprend'"
            ]
          },
          "metadata": {
            "tags": []
          },
          "execution_count": 12
        }
      ]
    },
    {
      "cell_type": "code",
      "metadata": {
        "id": "DWeL9UDURmEY"
      },
      "source": [
        "for token in documento:\n",
        "  print(token.text, token.lemma_, stemmer.stem(token.text))"
      ],
      "execution_count": null,
      "outputs": []
    },
    {
      "cell_type": "markdown",
      "metadata": {
        "id": "PtacHcwVZ4PH"
      },
      "source": [
        "# Etapa 4: Reconhecimento de entidades nomeadas\n",
        "\n",
        "- NER (Named-Entity Recognition)\n",
        "- Encontrar e classificar entidades no texto, dependendo da base de dados que foi utilizada para o treinamento (pessoa, localização, empresa, numéricos)\n",
        "- Usado em chatbots para saber o assunto falado\n",
        "- Siglas: https://spacy.io/api/annotation#named-entities"
      ]
    },
    {
      "cell_type": "code",
      "metadata": {
        "id": "mA_awKp-aq9j"
      },
      "source": [
        "texto = 'Meu nome é Carolinne e falo em nome da empresa Santander'"
      ],
      "execution_count": 11,
      "outputs": []
    },
    {
      "cell_type": "code",
      "metadata": {
        "id": "ldfPLqpVTlbq"
      },
      "source": [
        "documento = pln(texto)"
      ],
      "execution_count": 13,
      "outputs": []
    },
    {
      "cell_type": "code",
      "metadata": {
        "id": "-ir1stmgTsbW",
        "colab": {
          "base_uri": "https://localhost:8080/"
        },
        "outputId": "339e1aee-60de-4e2e-bcf6-21450ef70542"
      },
      "source": [
        "for entidade in documento.ents:\n",
        "  print(entidade.text, entidade.label_)"
      ],
      "execution_count": 14,
      "outputs": [
        {
          "output_type": "stream",
          "text": [
            "Carolinne LOC\n",
            "Santander MISC\n"
          ],
          "name": "stdout"
        }
      ]
    },
    {
      "cell_type": "code",
      "metadata": {
        "id": "FfXi2DsYUIU0",
        "colab": {
          "base_uri": "https://localhost:8080/",
          "height": 52
        },
        "outputId": "66fd8bb7-1334-4cb3-ea5a-3ad4f4334ddb"
      },
      "source": [
        "from spacy import displacy\n",
        "displacy.render(documento, style = 'ent', jupyter = True)"
      ],
      "execution_count": 15,
      "outputs": [
        {
          "output_type": "display_data",
          "data": {
            "text/html": [
              "<span class=\"tex2jax_ignore\"><div class=\"entities\" style=\"line-height: 2.5; direction: ltr\">Meu nome é \n",
              "<mark class=\"entity\" style=\"background: #ff9561; padding: 0.45em 0.6em; margin: 0 0.25em; line-height: 1; border-radius: 0.35em;\">\n",
              "    Carolinne\n",
              "    <span style=\"font-size: 0.8em; font-weight: bold; line-height: 1; border-radius: 0.35em; text-transform: uppercase; vertical-align: middle; margin-left: 0.5rem\">LOC</span>\n",
              "</mark>\n",
              " e falo em nome da empresa \n",
              "<mark class=\"entity\" style=\"background: #ddd; padding: 0.45em 0.6em; margin: 0 0.25em; line-height: 1; border-radius: 0.35em;\">\n",
              "    Santander\n",
              "    <span style=\"font-size: 0.8em; font-weight: bold; line-height: 1; border-radius: 0.35em; text-transform: uppercase; vertical-align: middle; margin-left: 0.5rem\">MISC</span>\n",
              "</mark>\n",
              "</div></span>"
            ],
            "text/plain": [
              "<IPython.core.display.HTML object>"
            ]
          },
          "metadata": {
            "tags": []
          }
        }
      ]
    },
    {
      "cell_type": "code",
      "metadata": {
        "id": "MDPlvRF2cF7Q"
      },
      "source": [
        "texto = 'Olá, bom dia, sou o Victor, da Flex, São Paulo, e falo em nome do Santander'"
      ],
      "execution_count": 21,
      "outputs": []
    },
    {
      "cell_type": "code",
      "metadata": {
        "id": "W00f6-70UYkI",
        "colab": {
          "base_uri": "https://localhost:8080/"
        },
        "outputId": "c9ddb676-0cbe-4f94-aa65-75bf64972daf"
      },
      "source": [
        "documento = pln(texto)\n",
        "for entidade in documento.ents:\n",
        "  print(entidade.text, entidade.label_)"
      ],
      "execution_count": 22,
      "outputs": [
        {
          "output_type": "stream",
          "text": [
            "Victor PER\n",
            "Flex ORG\n",
            "São Paulo LOC\n",
            "Santander MISC\n"
          ],
          "name": "stdout"
        }
      ]
    },
    {
      "cell_type": "code",
      "metadata": {
        "id": "vQOX_rbNUlCh",
        "colab": {
          "base_uri": "https://localhost:8080/",
          "height": 52
        },
        "outputId": "acd35f64-e50b-4db8-9c00-7005efb339fb"
      },
      "source": [
        "displacy.render(documento, style = 'ent', jupyter = True)"
      ],
      "execution_count": 23,
      "outputs": [
        {
          "output_type": "display_data",
          "data": {
            "text/html": [
              "<span class=\"tex2jax_ignore\"><div class=\"entities\" style=\"line-height: 2.5; direction: ltr\">Olá, bom dia, sou o \n",
              "<mark class=\"entity\" style=\"background: #ddd; padding: 0.45em 0.6em; margin: 0 0.25em; line-height: 1; border-radius: 0.35em;\">\n",
              "    Victor\n",
              "    <span style=\"font-size: 0.8em; font-weight: bold; line-height: 1; border-radius: 0.35em; text-transform: uppercase; vertical-align: middle; margin-left: 0.5rem\">PER</span>\n",
              "</mark>\n",
              ", da \n",
              "<mark class=\"entity\" style=\"background: #7aecec; padding: 0.45em 0.6em; margin: 0 0.25em; line-height: 1; border-radius: 0.35em;\">\n",
              "    Flex\n",
              "    <span style=\"font-size: 0.8em; font-weight: bold; line-height: 1; border-radius: 0.35em; text-transform: uppercase; vertical-align: middle; margin-left: 0.5rem\">ORG</span>\n",
              "</mark>\n",
              ", \n",
              "<mark class=\"entity\" style=\"background: #ff9561; padding: 0.45em 0.6em; margin: 0 0.25em; line-height: 1; border-radius: 0.35em;\">\n",
              "    São Paulo\n",
              "    <span style=\"font-size: 0.8em; font-weight: bold; line-height: 1; border-radius: 0.35em; text-transform: uppercase; vertical-align: middle; margin-left: 0.5rem\">LOC</span>\n",
              "</mark>\n",
              ", e falo em nome do \n",
              "<mark class=\"entity\" style=\"background: #ddd; padding: 0.45em 0.6em; margin: 0 0.25em; line-height: 1; border-radius: 0.35em;\">\n",
              "    Santander\n",
              "    <span style=\"font-size: 0.8em; font-weight: bold; line-height: 1; border-radius: 0.35em; text-transform: uppercase; vertical-align: middle; margin-left: 0.5rem\">MISC</span>\n",
              "</mark>\n",
              "</div></span>"
            ],
            "text/plain": [
              "<IPython.core.display.HTML object>"
            ]
          },
          "metadata": {
            "tags": []
          }
        }
      ]
    },
    {
      "cell_type": "code",
      "metadata": {
        "id": "86ecZ6oDUsQv",
        "colab": {
          "base_uri": "https://localhost:8080/"
        },
        "outputId": "2212b5f4-938c-4a45-b307-b8c437f3f4ba"
      },
      "source": [
        "for entidade in documento.ents:\n",
        "  if entidade.label_ == 'PER':\n",
        "    print(entidade.text)"
      ],
      "execution_count": 24,
      "outputs": [
        {
          "output_type": "stream",
          "text": [
            "Victor\n"
          ],
          "name": "stdout"
        }
      ]
    },
    {
      "cell_type": "markdown",
      "metadata": {
        "id": "Gt4Rg6ekdsmF"
      },
      "source": [
        "# Etapa 5: Stopwords"
      ]
    },
    {
      "cell_type": "markdown",
      "metadata": {
        "id": "Stg3FUaoeW4I"
      },
      "source": [
        "- Palavras que aparecem com muita frequência e que não apresentam muito significado (e, a, de, da, etc)"
      ]
    },
    {
      "cell_type": "code",
      "metadata": {
        "id": "MQ2Mxo4vVZ-w"
      },
      "source": [
        "from spacy.lang.pt.stop_words import STOP_WORDS"
      ],
      "execution_count": null,
      "outputs": []
    },
    {
      "cell_type": "code",
      "metadata": {
        "id": "_FZdoyg2VgdF"
      },
      "source": [
        "print(STOP_WORDS)"
      ],
      "execution_count": null,
      "outputs": []
    },
    {
      "cell_type": "code",
      "metadata": {
        "id": "ebS0ad1CVpD8"
      },
      "source": [
        "len(STOP_WORDS)"
      ],
      "execution_count": null,
      "outputs": []
    },
    {
      "cell_type": "code",
      "metadata": {
        "id": "_k3mNHEBVtWr"
      },
      "source": [
        "pln.vocab['ir'].is_stop"
      ],
      "execution_count": null,
      "outputs": []
    },
    {
      "cell_type": "code",
      "metadata": {
        "id": "JQmM-k23V1Mk"
      },
      "source": [
        "pln.vocab['caminhar'].is_stop"
      ],
      "execution_count": null,
      "outputs": []
    },
    {
      "cell_type": "code",
      "metadata": {
        "id": "5H4eI813V8h7"
      },
      "source": [
        "documento = pln('Celular ASUS black 8GB de memória à pronta entrega em São Paulo')"
      ],
      "execution_count": null,
      "outputs": []
    },
    {
      "cell_type": "code",
      "metadata": {
        "id": "jVtMxX__WE9y"
      },
      "source": [
        "for token in documento:\n",
        "  if not pln.vocab[token.text].is_stop:\n",
        "    print(token.text)"
      ],
      "execution_count": null,
      "outputs": []
    },
    {
      "cell_type": "markdown",
      "metadata": {
        "id": "cd8PYqtyxTt8"
      },
      "source": [
        "# Etapa 6: Semelhanças entre palavras e frases\n",
        "\n",
        "- Verificar se duas palavras são semelhantes ou logicamente relacionadas\n",
        "- Usa o algoritmo GloVe (Global Vectors for Word Representation)\n",
        "- Artigo original: https://nlp.stanford.edu/pubs/glove.pdf"
      ]
    },
    {
      "cell_type": "markdown",
      "metadata": {
        "id": "pLv1PTJz0sks"
      },
      "source": [
        "## Exemplo 1"
      ]
    },
    {
      "cell_type": "code",
      "metadata": {
        "id": "mmYy8Yr7k7hv"
      },
      "source": [
        "p1 = pln(\"olá\")\n",
        "p2 = pln(\"oi\")\n",
        "p3 = pln(\"ou\")"
      ],
      "execution_count": 25,
      "outputs": []
    },
    {
      "cell_type": "code",
      "metadata": {
        "id": "SCN4W5uxlFXq"
      },
      "source": [
        "p1.similarity(p2)"
      ],
      "execution_count": null,
      "outputs": []
    },
    {
      "cell_type": "code",
      "metadata": {
        "id": "ayx-A8bnlXwn"
      },
      "source": [
        "p2.similarity(p1)"
      ],
      "execution_count": null,
      "outputs": []
    },
    {
      "cell_type": "code",
      "metadata": {
        "id": "HWCoEOollco1"
      },
      "source": [
        "p1.similarity(p3)"
      ],
      "execution_count": null,
      "outputs": []
    },
    {
      "cell_type": "code",
      "metadata": {
        "id": "qCwXOf2wlm3-"
      },
      "source": [
        "p2.similarity(p3)"
      ],
      "execution_count": null,
      "outputs": []
    },
    {
      "cell_type": "code",
      "metadata": {
        "id": "L-D7aABslwTa"
      },
      "source": [
        "texto1 = pln('quanto custa o celular?')\n",
        "texto2 = pln('qual é o preço do celular')\n",
        "texto3 = pln('vem com fone?')"
      ],
      "execution_count": null,
      "outputs": []
    },
    {
      "cell_type": "code",
      "metadata": {
        "id": "tRPBcAail9-Q"
      },
      "source": [
        "texto1.similarity(texto2)"
      ],
      "execution_count": null,
      "outputs": []
    },
    {
      "cell_type": "code",
      "metadata": {
        "id": "V1ggTh34mCjh"
      },
      "source": [
        "texto1.similarity(texto3)"
      ],
      "execution_count": null,
      "outputs": []
    },
    {
      "cell_type": "markdown",
      "metadata": {
        "id": "c0CVDr5W0wkK"
      },
      "source": [
        "## Exemplo 2"
      ]
    },
    {
      "cell_type": "code",
      "metadata": {
        "id": "OWCYOxSkmp_i"
      },
      "source": [
        "texto = pln('Camiseta Gola V Masculina Básica Lisa Algodão')"
      ],
      "execution_count": null,
      "outputs": []
    },
    {
      "cell_type": "code",
      "metadata": {
        "id": "Pbk3ZPIOmypr"
      },
      "source": [
        "for texto1 in texto:\n",
        "  #print('----', texto1)\n",
        "  for texto2 in texto:\n",
        "    #print(texto2)\n",
        "    similaridade = int(texto1.similarity(texto2) * 100)\n",
        "    print(\"{} é {} similar a {}\".format(texto1, similaridade, texto2))"
      ],
      "execution_count": null,
      "outputs": []
    },
    {
      "cell_type": "markdown",
      "metadata": {
        "id": "zcgAkuB346vV"
      },
      "source": [
        "# Etapa 7: Tokenização"
      ]
    },
    {
      "cell_type": "code",
      "metadata": {
        "id": "mZuGK8j_n8WB"
      },
      "source": [
        "documento = pln('Camiseta Gola V Masculina Básica Lisa Algodão Camisa Blusa')"
      ],
      "execution_count": null,
      "outputs": []
    },
    {
      "cell_type": "code",
      "metadata": {
        "id": "dtr3c4WEoA0c"
      },
      "source": [
        "for token in documento:\n",
        "  print(token)"
      ],
      "execution_count": null,
      "outputs": []
    },
    {
      "cell_type": "code",
      "metadata": {
        "id": "F0D5zthsoJi3"
      },
      "source": [
        "documento1 = 'Camiseta Gola V Masculina Básica Lisa Algodão Camisa Blusa'\n",
        "documento1.split(' ')"
      ],
      "execution_count": null,
      "outputs": []
    }
  ]
}